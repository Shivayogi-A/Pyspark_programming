{
  "nbformat": 4,
  "nbformat_minor": 0,
  "metadata": {
    "colab": {
      "provenance": [],
      "authorship_tag": "ABX9TyN1cMcs6rIh8dEy6Xo8Vsnn",
      "include_colab_link": true
    },
    "kernelspec": {
      "name": "python3",
      "display_name": "Python 3"
    },
    "language_info": {
      "name": "python"
    }
  },
  "cells": [
    {
      "cell_type": "markdown",
      "metadata": {
        "id": "view-in-github",
        "colab_type": "text"
      },
      "source": [
        "<a href=\"https://colab.research.google.com/github/Shivayogi-A/Pyspark_programming/blob/master/Pyspark_split_and_Join_functions.ipynb\" target=\"_parent\"><img src=\"https://colab.research.google.com/assets/colab-badge.svg\" alt=\"Open In Colab\"/></a>"
      ]
    },
    {
      "cell_type": "code",
      "execution_count": 18,
      "metadata": {
        "id": "1_CYMQ7Jt2Ma",
        "colab": {
          "base_uri": "https://localhost:8080/"
        },
        "outputId": "e8a0bf1c-dc68-49c5-ff56-fae175fb1730"
      },
      "outputs": [
        {
          "output_type": "stream",
          "name": "stdout",
          "text": [
            "Get:1 https://cloud.r-project.org/bin/linux/ubuntu jammy-cran40/ InRelease [3,626 B]\n",
            "Hit:2 https://developer.download.nvidia.com/compute/cuda/repos/ubuntu2204/x86_64  InRelease\n",
            "Hit:3 http://archive.ubuntu.com/ubuntu jammy InRelease\n",
            "Get:4 http://security.ubuntu.com/ubuntu jammy-security InRelease [129 kB]\n",
            "Ign:5 https://r2u.stat.illinois.edu/ubuntu jammy InRelease\n",
            "Get:6 http://archive.ubuntu.com/ubuntu jammy-updates InRelease [128 kB]\n",
            "Hit:7 https://r2u.stat.illinois.edu/ubuntu jammy Release\n",
            "Hit:8 http://archive.ubuntu.com/ubuntu jammy-backports InRelease\n",
            "Hit:9 https://ppa.launchpadcontent.net/deadsnakes/ppa/ubuntu jammy InRelease\n",
            "Hit:11 https://ppa.launchpadcontent.net/graphics-drivers/ppa/ubuntu jammy InRelease\n",
            "Hit:12 https://ppa.launchpadcontent.net/ubuntugis/ppa/ubuntu jammy InRelease\n",
            "Fetched 261 kB in 3s (96.8 kB/s)\n",
            "Reading package lists... Done\n",
            "W: Skipping acquire of configured file 'main/source/Sources' as repository 'https://r2u.stat.illinois.edu/ubuntu jammy InRelease' does not seem to provide it (sources.list entry misspelt?)\n",
            "sample_data\t\t   spark-3.1.1-bin-hadoop3.2.tgz\n",
            "spark-3.1.1-bin-hadoop3.2  spark-3.1.1-bin-hadoop3.2.tgz.1\n"
          ]
        }
      ],
      "source": [
        "!apt-get update # Update apt-get repository.\n",
        "!apt-get install openjdk-8-jdk-headless -qq > /dev/null # Install Java.\n",
        "!wget -q http://archive.apache.org/dist/spark/spark-3.1.1/spark-3.1.1-bin-hadoop3.2.tgz # Download Apache Sparks.\n",
        "!tar xf spark-3.1.1-bin-hadoop3.2.tgz # Unzip the tgz file.\n",
        "!pip install -q findspark # Install findspark. Adds PySpark to the System path during runtime.\n",
        "\n",
        "# Set environment variables\n",
        "import os\n",
        "os.environ[\"JAVA_HOME\"] = \"/usr/lib/jvm/java-8-openjdk-amd64\"\n",
        "os.environ[\"SPARK_HOME\"] = \"/content/spark-3.1.1-bin-hadoop3.2\"\n",
        "\n",
        "!ls\n",
        "\n",
        "# Initialize findspark\n",
        "import findspark\n",
        "findspark.init()\n",
        "\n",
        "# create a spark session\n",
        "\n",
        "from pyspark.sql import SparkSession\n",
        "spark =SparkSession.builder\\\n",
        "       .appName(\"Split_fnuction\")\\\n",
        "       .getOrCreate()"
      ]
    },
    {
      "cell_type": "markdown",
      "source": [
        "**PySpark split() Column into Multiple Columns**\\\n",
        "pyspark.sql.functions provides a function split() to split DataFrame string Column into multiple columns.\\\n",
        "\n",
        "We can split Dataframe single column into multiple columns using withColumn() and select()"
      ],
      "metadata": {
        "id": "Q6gk2ZSy0veM"
      }
    },
    {
      "cell_type": "code",
      "source": [
        "# Syntax for split() function\n",
        "# first we have to import the split function,\n",
        "\n",
        "from pyspark.sql.functions import split\n",
        "\n",
        "#syntax\n",
        "pyspark.sql.functions.split(str, pattern, limit=-1)\n"
      ],
      "metadata": {
        "colab": {
          "base_uri": "https://localhost:8080/",
          "height": 176
        },
        "id": "5L0kpfkL0hFg",
        "outputId": "7b928b05-6b29-4861-8cda-a96e9a17405a"
      },
      "execution_count": 19,
      "outputs": [
        {
          "output_type": "error",
          "ename": "NameError",
          "evalue": "name 'pattern' is not defined",
          "traceback": [
            "\u001b[0;31m---------------------------------------------------------------------------\u001b[0m",
            "\u001b[0;31mNameError\u001b[0m                                 Traceback (most recent call last)",
            "\u001b[0;32m<ipython-input-19-3730d41bc714>\u001b[0m in \u001b[0;36m<cell line: 7>\u001b[0;34m()\u001b[0m\n\u001b[1;32m      5\u001b[0m \u001b[0;34m\u001b[0m\u001b[0m\n\u001b[1;32m      6\u001b[0m \u001b[0;31m#syntax\u001b[0m\u001b[0;34m\u001b[0m\u001b[0;34m\u001b[0m\u001b[0m\n\u001b[0;32m----> 7\u001b[0;31m \u001b[0mpyspark\u001b[0m\u001b[0;34m.\u001b[0m\u001b[0msql\u001b[0m\u001b[0;34m.\u001b[0m\u001b[0mfunctions\u001b[0m\u001b[0;34m.\u001b[0m\u001b[0msplit\u001b[0m\u001b[0;34m(\u001b[0m\u001b[0mstr\u001b[0m\u001b[0;34m,\u001b[0m \u001b[0mpattern\u001b[0m\u001b[0;34m,\u001b[0m \u001b[0mlimit\u001b[0m\u001b[0;34m=\u001b[0m\u001b[0;34m-\u001b[0m\u001b[0;36m1\u001b[0m\u001b[0;34m)\u001b[0m\u001b[0;34m\u001b[0m\u001b[0;34m\u001b[0m\u001b[0m\n\u001b[0m",
            "\u001b[0;31mNameError\u001b[0m: name 'pattern' is not defined"
          ]
        }
      ]
    },
    {
      "cell_type": "markdown",
      "source": [
        "Parameters:\n",
        "\n",
        "* **str** – a string expression to split.\n",
        "* **pattern** – a string representing a regular expression.\n",
        "* **limit** –an integer that controls the number of times pattern is applied.\n",
        "\n",
        "Note:  Spark 3.0 split() function takes an optional limit field. If not provided, the default limit value is -1."
      ],
      "metadata": {
        "id": "eTwwTw9k3zCA"
      }
    },
    {
      "cell_type": "code",
      "source": [
        "#Example:\n",
        "\n",
        "info = [('James','','Smith','1991-04-01'),\n",
        "  ('Michael','Rose','','2000-05-19'),\n",
        "  ('Robert','','Williams','1978-09-05'),\n",
        "  ('Maria','Anne','Jones','1967-12-01'),\n",
        "  ('Jen','Mary','Brown','1980-02-17')\n",
        "]\n",
        "\n",
        "columns=[\"firstname\",\"middlename\",\"lastname\",\"dob\"]\n",
        "\n",
        "empDF = spark.createDataFrame(data = info, schema = columns)\n",
        "empDF.show()"
      ],
      "metadata": {
        "id": "bjZi06DN3lbu"
      },
      "execution_count": null,
      "outputs": []
    },
    {
      "cell_type": "markdown",
      "source": [
        "Now we shall split the **dob** column to 3 seperale columns displaying year, month and date usning the split function in 2 ways."
      ],
      "metadata": {
        "id": "nIUo1Qrz4peJ"
      }
    },
    {
      "cell_type": "code",
      "source": [
        "df = empDF.withColumn(\"Year\", split(empDF[\"dob\"], '-').getItem(0))\\\n",
        "          .withColumn(\"month\", split(empDF[\"dob\"], '-').getItem(1))\\\n",
        "          .withColumn(\"day\", split(empDF[\"dob\"], '-').getItem(2))\n",
        "df.show()"
      ],
      "metadata": {
        "id": "3maXG0gj4mDu"
      },
      "execution_count": null,
      "outputs": []
    },
    {
      "cell_type": "markdown",
      "source": [
        "Alternatively, you can do like below by creating a function variable and reusing it."
      ],
      "metadata": {
        "id": "ZYTMzdVU6esH"
      }
    },
    {
      "cell_type": "code",
      "source": [
        "import pyspark\n",
        "\n",
        "split_col = pyspark.sql.functions.split(empDF['dob'],'-')\n",
        "\n",
        "new_df = empDF.withColumn(\"Year\", split_col.getItem(0))\\\n",
        "              .withColumn(\"Month\", split_col.getItem(1))\\\n",
        "              .withColumn(\"Day\", split_col.getItem(2))\n",
        "\n",
        "new_df.show()"
      ],
      "metadata": {
        "collapsed": true,
        "id": "LS-hegB55aBP"
      },
      "execution_count": null,
      "outputs": []
    },
    {
      "cell_type": "markdown",
      "source": [
        "This also results in the same output as above."
      ],
      "metadata": {
        "id": "0AkjL0G-8Fex"
      }
    },
    {
      "cell_type": "markdown",
      "source": [
        "**Split Column using Select().**\n",
        "\n"
      ],
      "metadata": {
        "id": "xzTMEw1v8KHF"
      }
    },
    {
      "cell_type": "code",
      "source": [
        "# split() with select()\n",
        "split_col = pyspark.sql.functions.split(df['dob'], '-')\n",
        "df3 = df.select(\"firstname\",\"middlename\",\"lastname\",\"dob\", split_col.getItem(0).alias('year'),\n",
        "                split_col.getItem(1).alias('month'),\n",
        "                split_col.getItem(2).alias('day'))\n",
        "df3.show(truncate=False)"
      ],
      "metadata": {
        "id": "NHSTFH1e8Jl-"
      },
      "execution_count": null,
      "outputs": []
    },
    {
      "cell_type": "markdown",
      "source": [
        "This also results in same output as above."
      ],
      "metadata": {
        "id": "EbfgEkzC8cBn"
      }
    },
    {
      "cell_type": "markdown",
      "source": [
        "**Join function in pyspark**\n",
        "\n",
        "It is a python function that returns a string by joining all the elements of an iterable object such as list, tuple, etc, seperated by a string seperator.\n",
        "\n",
        "**Note:** This join function is different from the sql joins, the utility and functionality is completely different."
      ],
      "metadata": {
        "id": "uDSGKl0e_i53"
      }
    },
    {
      "cell_type": "code",
      "source": [
        "#syntax of Join function\n",
        "\n",
        "# string_seperator.join(iterable data)"
      ],
      "metadata": {
        "id": "1Lf5kFkf7TXU"
      },
      "execution_count": null,
      "outputs": []
    },
    {
      "cell_type": "markdown",
      "source": [
        "* string_seperator: The sperator string using which the iterable items are joined\n",
        "* join: keyword of join function\n",
        "* iterable data: data such as list or tuple which can be iterated for joining.\n",
        "\n"
      ],
      "metadata": {
        "id": "G2zbyP0sBaef"
      }
    },
    {
      "cell_type": "code",
      "source": [
        "column_list = empDF.columns\n",
        "print(column_list)"
      ],
      "metadata": {
        "id": "0cMiS5GQB4tv"
      },
      "execution_count": null,
      "outputs": []
    },
    {
      "cell_type": "code",
      "source": [
        "joined_string = ','.join(column_list)\n",
        "print(joined_string)"
      ],
      "metadata": {
        "id": "-gDWu4IXCSFp"
      },
      "execution_count": null,
      "outputs": []
    }
  ]
}