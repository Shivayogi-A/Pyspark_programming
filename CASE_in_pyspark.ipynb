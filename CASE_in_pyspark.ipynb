{
  "nbformat": 4,
  "nbformat_minor": 0,
  "metadata": {
    "colab": {
      "provenance": [],
      "authorship_tag": "ABX9TyPrKGEMjgHwZrLt27D+CLGH",
      "include_colab_link": true
    },
    "kernelspec": {
      "name": "python3",
      "display_name": "Python 3"
    },
    "language_info": {
      "name": "python"
    }
  },
  "cells": [
    {
      "cell_type": "markdown",
      "metadata": {
        "id": "view-in-github",
        "colab_type": "text"
      },
      "source": [
        "<a href=\"https://colab.research.google.com/github/Shivayogi-A/Pyspark_programming/blob/master/CASE_in_pyspark.ipynb\" target=\"_parent\"><img src=\"https://colab.research.google.com/assets/colab-badge.svg\" alt=\"Open In Colab\"/></a>"
      ]
    },
    {
      "cell_type": "code",
      "execution_count": 6,
      "metadata": {
        "colab": {
          "base_uri": "https://localhost:8080/"
        },
        "id": "nnpLx92D8zMk",
        "outputId": "ff076911-8b90-4dd7-df32-bbf93ebf1b5e"
      },
      "outputs": [
        {
          "output_type": "stream",
          "name": "stdout",
          "text": [
            "\r0% [Working]\r            \rHit:1 https://cloud.r-project.org/bin/linux/ubuntu jammy-cran40/ InRelease\n",
            "Hit:2 https://developer.download.nvidia.com/compute/cuda/repos/ubuntu2204/x86_64  InRelease\n",
            "Ign:3 https://r2u.stat.illinois.edu/ubuntu jammy InRelease\n",
            "Hit:4 http://archive.ubuntu.com/ubuntu jammy InRelease\n",
            "Get:5 http://security.ubuntu.com/ubuntu jammy-security InRelease [129 kB]\n",
            "Hit:6 https://r2u.stat.illinois.edu/ubuntu jammy Release\n",
            "Get:7 http://archive.ubuntu.com/ubuntu jammy-updates InRelease [128 kB]\n",
            "Hit:9 https://ppa.launchpadcontent.net/deadsnakes/ppa/ubuntu jammy InRelease\n",
            "Hit:10 https://ppa.launchpadcontent.net/graphics-drivers/ppa/ubuntu jammy InRelease\n",
            "Hit:11 https://ppa.launchpadcontent.net/ubuntugis/ppa/ubuntu jammy InRelease\n",
            "Hit:12 http://archive.ubuntu.com/ubuntu jammy-backports InRelease\n",
            "Fetched 257 kB in 1s (180 kB/s)\n",
            "Reading package lists... Done\n",
            "W: Skipping acquire of configured file 'main/source/Sources' as repository 'https://r2u.stat.illinois.edu/ubuntu jammy InRelease' does not seem to provide it (sources.list entry misspelt?)\n",
            "sample_data\t\t   spark-3.1.1-bin-hadoop3.2.tgz\n",
            "spark-3.1.1-bin-hadoop3.2  spark-3.1.1-bin-hadoop3.2.tgz.1\n"
          ]
        }
      ],
      "source": [
        "!apt-get update # Update apt-get repository.\n",
        "!apt-get install openjdk-8-jdk-headless -qq > /dev/null # Install Java.\n",
        "!wget -q http://archive.apache.org/dist/spark/spark-3.1.1/spark-3.1.1-bin-hadoop3.2.tgz # Download Apache Sparks.\n",
        "!tar xf spark-3.1.1-bin-hadoop3.2.tgz # Unzip the tgz file.\n",
        "!pip install -q findspark # Install findspark. Adds PySpark to the System path during runtime.\n",
        "\n",
        "# Set environment variables\n",
        "import os\n",
        "os.environ[\"JAVA_HOME\"] = \"/usr/lib/jvm/java-8-openjdk-amd64\"\n",
        "os.environ[\"SPARK_HOME\"] = \"/content/spark-3.1.1-bin-hadoop3.2\"\n",
        "\n",
        "!ls\n",
        "\n",
        "# Initialize findspark\n",
        "import findspark\n",
        "findspark.init()\n",
        "\n",
        "#creating spark session\n",
        "\n",
        "from pyspark.sql import SparkSession\n",
        "spark = SparkSession.builder\\\n",
        "        .appName(\"CaseInPyspark\")\\\n",
        "        .getOrCreate()"
      ]
    },
    {
      "cell_type": "code",
      "source": [],
      "metadata": {
        "id": "gdfOxYSe9Pf9"
      },
      "execution_count": 4,
      "outputs": []
    },
    {
      "cell_type": "markdown",
      "source": [
        "**PySpark SQL Case When on DataFrame.**\\\n",
        "If you have a SQL background you might have familiar with Case When statement that is used to execute a sequence of conditions and returns a value when the first condition met, similar to SWITH and IF THEN ELSE statements. Similarly, PySpark SQL Case When statement can be used on DataFrame, below are some of the examples of using with withColumn(), select(), selectExpr() utilizing expr() function.\n",
        "\n",
        "**CASE** is the start of the expression\\\n",
        "Clause **WHEN** takes a condition, if condition true it returns a value from **THEN**\\\n",
        "If the condition is false it goes to the next condition and so on.\\\n",
        "If none of the condition matches, it returns a value from the ELSE clause.\\\n",
        "**END** is to end the expression."
      ],
      "metadata": {
        "id": "cVd4NktrAEzu"
      }
    },
    {
      "cell_type": "code",
      "source": [
        "data = [(\"James\",\"M\",60000),(\"Michael\",\"M\",70000),\n",
        "        (\"Robert\",None,400000),(\"Maria\",\"F\",500000),\n",
        "        (\"Jen\",\"\",None)]\n",
        "\n",
        "columns = [\"name\",\"gender\",\"salary\"]\n",
        "\n",
        "emp_df = spark.createDataFrame(data, schema = columns)\n",
        "emp_df.show()"
      ],
      "metadata": {
        "colab": {
          "base_uri": "https://localhost:8080/"
        },
        "id": "bV235jHO-CLP",
        "outputId": "fdfb9cdf-1b61-4e9c-bd2d-ac9db372c558"
      },
      "execution_count": 5,
      "outputs": [
        {
          "output_type": "stream",
          "name": "stdout",
          "text": [
            "+-------+------+------+\n",
            "|   name|gender|salary|\n",
            "+-------+------+------+\n",
            "|  James|     M| 60000|\n",
            "|Michael|     M| 70000|\n",
            "| Robert|  null|400000|\n",
            "|  Maria|     F|500000|\n",
            "|    Jen|      |  null|\n",
            "+-------+------+------+\n",
            "\n"
          ]
        }
      ]
    },
    {
      "cell_type": "code",
      "source": [
        "from pyspark.sql.functions import expr\n",
        "df1 = emp_df.withColumn(\"gender\", expr(\"CASE WHEN gender = 'M' THEN 'Male' \" +\n",
        "                                       \"WHEN gender = 'F' THEN 'Female' \" +\n",
        "                                       \"WHEN gender is Null THEN ' ' \"+\n",
        "                                       \"ELSE gender END\" ))\n",
        "\n",
        "\n",
        "df1.show()"
      ],
      "metadata": {
        "colab": {
          "base_uri": "https://localhost:8080/"
        },
        "id": "Gfgv0O-A-mF9",
        "outputId": "03dbc55e-6962-47f3-8fd5-0eab07eba95a"
      },
      "execution_count": 12,
      "outputs": [
        {
          "output_type": "stream",
          "name": "stdout",
          "text": [
            "+-------+------+------+\n",
            "|   name|gender|salary|\n",
            "+-------+------+------+\n",
            "|  James|  Male| 60000|\n",
            "|Michael|  Male| 70000|\n",
            "| Robert|      |400000|\n",
            "|  Maria|Female|500000|\n",
            "|    Jen|      |  null|\n",
            "+-------+------+------+\n",
            "\n"
          ]
        }
      ]
    },
    {
      "cell_type": "code",
      "source": [
        "records = [('Shiva','IT','Bengaluru'),\n",
        "           ('Rohit','BA','Pune'),\n",
        "           ('Shubham','IT','Bengaluru'),\n",
        "           ('Gautam','IT','Chennai')]\n",
        "\n",
        "Header = ['name','domain','location']\n",
        "\n",
        "df2 = spark.createDataFrame(records,Header)\n",
        "df2.show()"
      ],
      "metadata": {
        "colab": {
          "base_uri": "https://localhost:8080/"
        },
        "id": "iJkYAteRCJ42",
        "outputId": "c08feffc-872d-4fab-8076-500c34745daf"
      },
      "execution_count": 15,
      "outputs": [
        {
          "output_type": "stream",
          "name": "stdout",
          "text": [
            "+-------+------+---------+\n",
            "|   name|domain| location|\n",
            "+-------+------+---------+\n",
            "|  Shiva|    IT|Bengaluru|\n",
            "|  Rohit|    BA|     Pune|\n",
            "|Shubham|    IT|Bengaluru|\n",
            "| Gautam|    IT|  Chennai|\n",
            "+-------+------+---------+\n",
            "\n"
          ]
        }
      ]
    },
    {
      "cell_type": "code",
      "source": [
        "df3 = df2.withColumn(\"role\", expr(\"CASE  WHEN domain = 'IT' THEN 'Software Engineer' \" +\n",
        "                                  \"WHEN domain = 'BA' THEN 'Business Analyst' \"+\n",
        "                                  \"ELSE domain END\"))\n",
        "df3.show()"
      ],
      "metadata": {
        "colab": {
          "base_uri": "https://localhost:8080/"
        },
        "id": "dgTL3dfWHcSY",
        "outputId": "9847a9d5-2b02-465c-b545-e66688464834"
      },
      "execution_count": 17,
      "outputs": [
        {
          "output_type": "stream",
          "name": "stdout",
          "text": [
            "+-------+------+---------+-----------------+\n",
            "|   name|domain| location|             role|\n",
            "+-------+------+---------+-----------------+\n",
            "|  Shiva|    IT|Bengaluru|Software Engineer|\n",
            "|  Rohit|    BA|     Pune| Business Analyst|\n",
            "|Shubham|    IT|Bengaluru|Software Engineer|\n",
            "| Gautam|    IT|  Chennai|Software Engineer|\n",
            "+-------+------+---------+-----------------+\n",
            "\n"
          ]
        }
      ]
    },
    {
      "cell_type": "markdown",
      "source": [
        "**Multiple Conditions using & and | operator**\\\n",
        "We often need to check with multiple conditions, below is an example of using PySpark When Otherwise with multiple conditions by using and (&) or (|) operators."
      ],
      "metadata": {
        "id": "7-Xo8mtYKA5x"
      }
    },
    {
      "cell_type": "markdown",
      "source": [
        "**Complete Example – PySpark When Otherwise | SQL Case When**"
      ],
      "metadata": {
        "id": "Qb2GW70KI9JD"
      }
    },
    {
      "cell_type": "code",
      "source": [
        "\n",
        "data = [(\"James\",\"M\",60000), (\"Michael\",\"M\",70000),\n",
        "        (\"Robert\",None,400000), (\"Maria\",\"F\",500000),\n",
        "        (\"Jen\",\"\",None)]\n",
        "\n",
        "columns = [\"name\",\"gender\",\"salary\"]\n",
        "df = spark.createDataFrame(data = data, schema = columns)\n",
        "df.show()\n",
        "\n",
        "#Using When otherwise\n",
        "from pyspark.sql.functions import when,col\n",
        "df2 = df.withColumn(\"new_gender\", when(df.gender == \"M\",\"Male\")\n",
        "                                 .when(df.gender == \"F\",\"Female\")\n",
        "                                 .when(df.gender.isNull() ,\"\")\n",
        "                                 .otherwise(df.gender))\n",
        "df2.show()\n",
        "\n",
        "df2=df.select(col(\"*\"),when(df.gender == \"M\",\"Male\")\n",
        "                  .when(df.gender == \"F\",\"Female\")\n",
        "                  .when(df.gender.isNull() ,\"\")\n",
        "                  .otherwise(df.gender).alias(\"new_gender\"))\n",
        "df2.show()\n",
        "# Using SQL Case When\n",
        "from pyspark.sql.functions import expr\n",
        "df3 = df.withColumn(\"new_gender\", expr(\"CASE WHEN gender = 'M' THEN 'Male' \" +\n",
        "           \"WHEN gender = 'F' THEN 'Female' WHEN gender IS NULL THEN ''\" +\n",
        "          \"ELSE gender END\"))\n",
        "df3.show()\n",
        "\n",
        "df4 = df.select(col(\"*\"), expr(\"CASE WHEN gender = 'M' THEN 'Male' \" +\n",
        "           \"WHEN gender = 'F' THEN 'Female' WHEN gender IS NULL THEN ''\" +\n",
        "           \"ELSE gender END\").alias(\"new_gender\"))\n",
        "\n",
        "df.createOrReplaceTempView(\"EMP\")\n",
        "spark.sql(\"select name, CASE WHEN gender = 'M' THEN 'Male' \" +\n",
        "               \"WHEN gender = 'F' THEN 'Female' WHEN gender IS NULL THEN ''\" +\n",
        "              \"ELSE gender END as new_gender from EMP\").show()"
      ],
      "metadata": {
        "colab": {
          "base_uri": "https://localhost:8080/"
        },
        "id": "PrsiqHVeIRm4",
        "outputId": "3b2809bb-17c3-458b-f76c-9e35f2a27305"
      },
      "execution_count": 20,
      "outputs": [
        {
          "output_type": "stream",
          "name": "stdout",
          "text": [
            "+-------+------+------+\n",
            "|   name|gender|salary|\n",
            "+-------+------+------+\n",
            "|  James|     M| 60000|\n",
            "|Michael|     M| 70000|\n",
            "| Robert|  null|400000|\n",
            "|  Maria|     F|500000|\n",
            "|    Jen|      |  null|\n",
            "+-------+------+------+\n",
            "\n",
            "+-------+------+------+----------+\n",
            "|   name|gender|salary|new_gender|\n",
            "+-------+------+------+----------+\n",
            "|  James|     M| 60000|      Male|\n",
            "|Michael|     M| 70000|      Male|\n",
            "| Robert|  null|400000|          |\n",
            "|  Maria|     F|500000|    Female|\n",
            "|    Jen|      |  null|          |\n",
            "+-------+------+------+----------+\n",
            "\n",
            "+-------+------+------+----------+\n",
            "|   name|gender|salary|new_gender|\n",
            "+-------+------+------+----------+\n",
            "|  James|     M| 60000|      Male|\n",
            "|Michael|     M| 70000|      Male|\n",
            "| Robert|  null|400000|          |\n",
            "|  Maria|     F|500000|    Female|\n",
            "|    Jen|      |  null|          |\n",
            "+-------+------+------+----------+\n",
            "\n",
            "+-------+------+------+----------+\n",
            "|   name|gender|salary|new_gender|\n",
            "+-------+------+------+----------+\n",
            "|  James|     M| 60000|      Male|\n",
            "|Michael|     M| 70000|      Male|\n",
            "| Robert|  null|400000|          |\n",
            "|  Maria|     F|500000|    Female|\n",
            "|    Jen|      |  null|          |\n",
            "+-------+------+------+----------+\n",
            "\n",
            "+-------+----------+\n",
            "|   name|new_gender|\n",
            "+-------+----------+\n",
            "|  James|      Male|\n",
            "|Michael|      Male|\n",
            "| Robert|          |\n",
            "|  Maria|    Female|\n",
            "|    Jen|          |\n",
            "+-------+----------+\n",
            "\n"
          ]
        }
      ]
    }
  ]
}